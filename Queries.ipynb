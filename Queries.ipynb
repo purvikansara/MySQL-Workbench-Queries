{
 "cells": [
  {
   "cell_type": "markdown",
   "id": "5d4c8209",
   "metadata": {},
   "source": [
    "1. What query would you run to summarize the number of countries in each continent? The query should display the name of the continent and the number of countries. Also, the query should arrange the result by the number of countries in descending order. "
   ]
  },
  {
   "cell_type": "code",
   "execution_count": null,
   "id": "3ec2366c",
   "metadata": {},
   "outputs": [],
   "source": [
    "# USE world;\n",
    "\n",
    "# SELECT continent, count(*) AS num_countries FROM countries\n",
    "# GROUP BY continent\n",
    "# ORDER BY num_countries DESC;"
   ]
  },
  {
   "cell_type": "markdown",
   "id": "a9228e52",
   "metadata": {},
   "source": [
    "2. What query would you run to get all the countries that speak Greek? Your query should return the name of the country, language, and language percentage. Your query should arrange the result by language percentage in descending order. "
   ]
  },
  {
   "cell_type": "code",
   "execution_count": null,
   "id": "84bc8b85",
   "metadata": {},
   "outputs": [],
   "source": [
    "# SELECT c.name, l.language,l.percentage FROM countries c\n",
    "# JOIN languages AS l ON c.id = l.country_id \n",
    "# WHERE l.language ='Greek'\n",
    "# ORDER BY l.percentage DESC"
   ]
  },
  {
   "cell_type": "markdown",
   "id": "9723bed2",
   "metadata": {},
   "source": [
    "3.​ What query would you run to get all the countries with Surface Area less than 1000 OR a population greater than 100,0000,000? Include the country name, surface area, and population in your results."
   ]
  },
  {
   "cell_type": "code",
   "execution_count": null,
   "id": "56e6b8a7",
   "metadata": {},
   "outputs": [],
   "source": [
    "# SELECT \n",
    "#     name, surface_area, population\n",
    "# FROM\n",
    "#     countries\n",
    "# WHERE\n",
    "#     surface_area < 1000\n",
    "#         OR population > 1000000000;"
   ]
  },
  {
   "cell_type": "markdown",
   "id": "7e8f3f76",
   "metadata": {},
   "source": [
    "4. What query would you run to get countries with a government form of “Federal Republic” with a life expectancy of less than 75 years?  Include the country name, form of government, and life expectancy in the results."
   ]
  },
  {
   "cell_type": "code",
   "execution_count": null,
   "id": "4290932c",
   "metadata": {},
   "outputs": [],
   "source": [
    "# SELECT \n",
    "#     name, government_form, life_expectancy\n",
    "# FROM\n",
    "#     countries\n",
    "# WHERE\n",
    "#     government_form = 'Federal Republic'\n",
    "#         AND life_expectancy < 75;"
   ]
  },
  {
   "cell_type": "markdown",
   "id": "0675cf33",
   "metadata": {},
   "source": [
    "5. What query would you run to get all the cities of Mexico inside the Veracruz district and have a population greater than 100,000? The query should return the Country Name, City Name, District, and Population. "
   ]
  },
  {
   "cell_type": "code",
   "execution_count": null,
   "id": "5c62bf29",
   "metadata": {},
   "outputs": [],
   "source": [
    "# SELECT \n",
    "#     c.name, ct.name,ct.district, c.population \n",
    "# FROM\n",
    "#     countries c\n",
    "# JOIN cities ct \n",
    "# ON c.id  = ct.country_id\n",
    "# WHERE\n",
    "#     c.name = 'Mexico'\n",
    "#         AND ct.district = 'Veracruz'\n",
    "#         AND c.population >100000;"
   ]
  },
  {
   "cell_type": "markdown",
   "id": "61c55263",
   "metadata": {},
   "source": [
    "​6. What query would you run to get all the ten cities in Brazil with the smallest population? Your query should include the country name, city name, and population. Arrange the result by population in ascending order. Limit the result to the 10 cities with the smallest population. "
   ]
  },
  {
   "cell_type": "code",
   "execution_count": null,
   "id": "e4192da0",
   "metadata": {},
   "outputs": [],
   "source": [
    "# SELECT \n",
    "#     c.name, ct.name, ct.population\n",
    "# FROM\n",
    "#     countries c\n",
    "#         JOIN\n",
    "#     cities ct ON c.id = ct.country_id\n",
    "# WHERE\n",
    "#     c.name = 'Brazil'\n",
    "# ORDER BY ct.population ASC\n",
    "# LIMIT 10;"
   ]
  },
  {
   "cell_type": "markdown",
   "id": "22f85fd3",
   "metadata": {},
   "source": [
    "​7. What query would you run to get all languages spoken greater than 10% in Monaco? Display the country name, language, and percentage."
   ]
  },
  {
   "cell_type": "code",
   "execution_count": null,
   "id": "7be284e4",
   "metadata": {},
   "outputs": [],
   "source": [
    "# SELECT \n",
    "#     c.name, l.language, l.percentage\n",
    "# FROM\n",
    "#     countries c\n",
    "#         JOIN\n",
    "#     languages l ON c.id = l.country_id\n",
    "# WHERE\n",
    "#     c.name = 'Monaco'\n",
    "# AND l.percentage >10;"
   ]
  },
  {
   "cell_type": "code",
   "execution_count": null,
   "id": "62ac370d",
   "metadata": {},
   "outputs": [],
   "source": []
  },
  {
   "cell_type": "code",
   "execution_count": null,
   "id": "375b9a95",
   "metadata": {},
   "outputs": [],
   "source": []
  },
  {
   "cell_type": "code",
   "execution_count": null,
   "id": "90c795f7",
   "metadata": {},
   "outputs": [],
   "source": []
  }
 ],
 "metadata": {
  "kernelspec": {
   "display_name": "Python (dojo-env)",
   "language": "python",
   "name": "dojo-env"
  },
  "language_info": {
   "codemirror_mode": {
    "name": "ipython",
    "version": 3
   },
   "file_extension": ".py",
   "mimetype": "text/x-python",
   "name": "python",
   "nbconvert_exporter": "python",
   "pygments_lexer": "ipython3",
   "version": "3.8.13"
  },
  "toc": {
   "base_numbering": 1,
   "nav_menu": {},
   "number_sections": true,
   "sideBar": true,
   "skip_h1_title": false,
   "title_cell": "Table of Contents",
   "title_sidebar": "Contents",
   "toc_cell": false,
   "toc_position": {},
   "toc_section_display": true,
   "toc_window_display": false
  }
 },
 "nbformat": 4,
 "nbformat_minor": 5
}
